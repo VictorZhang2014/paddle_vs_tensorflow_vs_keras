{
 "cells": [
  {
   "cell_type": "markdown",
   "metadata": {},
   "source": [
    "# 基于PaddlePaddle的MNIST手写数字识别\n",
    "### 作者：张强   \n",
    "### 微信号：MrZhangQiang2019\n",
    "### 请关注公众号，免费获得更多的学习教程和资料\n",
    "![](https://ai-studio-static-online.cdn.bcebos.com/c1ef6aea9943477c83541807e56c5066b0a16810dda843839ebe0edc3968748f)\n",
    "\n",
    "### <a href=\"https://blog.csdn.net/u013538542\" target=\"_blank\">CSDN博客</a>\n",
    "### <a href=\"https://github.com/21-projects-for-deep-learning\" target=\"_blank\">Github主页</a>"
   ]
  },
  {
   "cell_type": "code",
   "execution_count": 6,
   "metadata": {
    "collapsed": false
   },
   "outputs": [],
   "source": [
    "!pip install paddlepaddle==1.4.0"
   ]
  },
  {
   "cell_type": "code",
   "execution_count": 4,
   "metadata": {
    "collapsed": false
   },
   "outputs": [
    {
     "name": "stdout",
     "output_type": "stream",
     "text": [
      "1.15.4\n"
     ]
    }
   ],
   "source": [
    "import numpy as np \n",
    "print(np.__version__) "
   ]
  },
  {
   "cell_type": "code",
   "execution_count": 5,
   "metadata": {
    "collapsed": false
   },
   "outputs": [
    {
     "name": "stdout",
     "output_type": "stream",
     "text": [
      "2.2.3\n"
     ]
    }
   ],
   "source": [
    "import matplotlib \n",
    "print(matplotlib.__version__) "
   ]
  },
  {
   "cell_type": "code",
   "execution_count": 1,
   "metadata": {
    "collapsed": false
   },
   "outputs": [
    {
     "name": "stdout",
     "output_type": "stream",
     "text": [
      "1.4.0\n"
     ]
    }
   ],
   "source": [
    "import paddle\n",
    "print(paddle.__version__) "
   ]
  },
  {
   "cell_type": "code",
   "execution_count": 3,
   "metadata": {
    "collapsed": false
   },
   "outputs": [
    {
     "name": "stdout",
     "output_type": "stream",
     "text": [
      "t10k-images-idx3-ubyte.gz  train-images-idx3-ubyte.gz\r\n",
      "t10k-labels-idx1-ubyte.gz  train-labels-idx1-ubyte.gz\r\n"
     ]
    }
   ],
   "source": [
    "# 查看个人持久化工作区文件\n",
    "!ls /home/aistudio/data/data65"
   ]
  },
  {
   "cell_type": "markdown",
   "metadata": {},
   "source": [
    "# 下载数据集"
   ]
  },
  {
   "cell_type": "code",
   "execution_count": 1,
   "metadata": {
    "collapsed": false
   },
   "outputs": [
    {
     "name": "stderr",
     "output_type": "stream",
     "text": [
      "\n",
      "\n",
      "\n",
      "\n"
     ]
    }
   ],
   "source": [
    "import paddle\n",
    "\n",
    "train = paddle.dataset.mnist.train()\n",
    "test = paddle.dataset.mnist.test()"
   ]
  },
  {
   "cell_type": "code",
   "execution_count": 24,
   "metadata": {
    "collapsed": false
   },
   "outputs": [
    {
     "data": {
      "text/plain": [
       "<generator object reader_creator.<locals>.reader at 0x7f4d70c77e60>"
      ]
     },
     "execution_count": 24,
     "metadata": {},
     "output_type": "execute_result"
    }
   ],
   "source": [
    "# 数据集返回的是一个生成器，数据类型是reader\n",
    "train()"
   ]
  },
  {
   "cell_type": "code",
   "execution_count": 4,
   "metadata": {
    "collapsed": false
   },
   "outputs": [
    {
     "name": "stdout",
     "output_type": "stream",
     "text": [
      "train_length=60000, test_length=10000\n"
     ]
    }
   ],
   "source": [
    "train_imgs = [img for img in train()]\n",
    "test_imgs = [img for img in test()]\n",
    "print(\"train_length={}, test_length={}\".format(len(train_imgs), len(test_imgs)))"
   ]
  },
  {
   "cell_type": "markdown",
   "metadata": {},
   "source": [
    "# 随机显示几张图像"
   ]
  },
  {
   "cell_type": "code",
   "execution_count": 72,
   "metadata": {
    "collapsed": false
   },
   "outputs": [
    {
     "name": "stdout",
     "output_type": "stream",
     "text": [
      "vector.shape=(784,), label=6\n",
      "第一张图像的.shape是(28, 28)\n"
     ]
    }
   ],
   "source": [
    "import random\n",
    "\n",
    "# 随机从数组中选择5张图像\n",
    "random_5_imgs = random.sample(train_imgs, 5)\n",
    "\n",
    "# PaddlePaddle读取出来的数据是由一个个元组作为数组元素\n",
    "# 每个元组的第一位为图像的向量，第二位是该向量对应的标签\n",
    "vector = random_5_imgs[0][0]\n",
    "label = random_5_imgs[0][1]\n",
    "print(\"vector.shape={}, label={}\".format(vector.shape, label))\n",
    "\n",
    "vectors = []\n",
    "labels = []\n",
    "for vector, label in random_5_imgs:\n",
    "    # 将每张图像向量转换成图像矩阵\n",
    "    vectors.append(vector.reshape((28,28)))\n",
    "    labels.append(label)\n",
    "\n",
    "print(\"第一张图像的.shape是{}\".format(vectors[0].shape))   "
   ]
  },
  {
   "cell_type": "code",
   "execution_count": 74,
   "metadata": {
    "collapsed": false
   },
   "outputs": [
    {
     "name": "stdout",
     "output_type": "stream",
     "text": [
      "图像对应的标签是[6, 6, 6, 1, 6]。\n"
     ]
    },
    {
     "data": {
      "image/png": "[encoded data removed]",
      "text/plain": [
       "<Figure size 720x360 with 5 Axes>"
      ]
     },
     "metadata": {},
     "output_type": "display_data"
    }
   ],
   "source": [
    "import matplotlib.pyplot as plt \n",
    "%matplotlib inline \n",
    "import numpy as np \n",
    " \n",
    "# 创建一个10x5大小的绘图对象\n",
    "fig = plt.figure(figsize=(10, 5)) \n",
    "# 遍历5次，因为我们只随机选择了5张图像，\n",
    "# 所以这里显示的图像取决于每次随机的图像而变化\n",
    "# 每次的图像显示的肯定不一样\n",
    "for i in range(5): \n",
    "    ax = fig.add_subplot(1, 5, i+1, xticks=[], yticks=[]) \n",
    "    ax.imshow(np.reshape(vectors[i:i+1], (28, 28)), cmap='gray') \n",
    "print(\"图像对应的标签是{}。\".format(labels))"
   ]
  },
  {
   "cell_type": "markdown",
   "metadata": {},
   "source": [
    "# 创建神经网络模型"
   ]
  },
  {
   "cell_type": "code",
   "execution_count": 2,
   "metadata": {
    "collapsed": false
   },
   "outputs": [],
   "source": [
    "import paddle.fluid as fluid\n",
    "import numpy as np\n",
    "\n",
    "# 表示0到9的共10个数字\n",
    "num_classes = 10\n",
    "\n",
    "# 我们使用CPU来训练模型\n",
    "use_cuda = False\n",
    "place = fluid.CUDAPlace(0) if use_cuda else fluid.CPUPlace()\n",
    "\n",
    "# 输入的原始图像数据，大小为28*28*1\n",
    "X = fluid.layers.data(name=\"img\", shape=[1, 28, 28], dtype=np.float32)\n",
    "# 输入的原始图像数据的标签\n",
    "y = fluid.layers.data(name=\"label\", shape=[1], dtype=np.int64)\n",
    "\n",
    "# 创建输出层，以softmax为激活函数的全连接层，输出层的大小必须为数字的个数10\n",
    "# fc表示全连接层（fully connected layer）\n",
    "predict = fluid.layers.fc(input=X, size=num_classes, act=\"softmax\")\n",
    "\n",
    "# 使用类交叉熵函数计算predict和y之间的损失函数\n",
    "cost = fluid.layers.cross_entropy(input=predict, label=y)\n",
    "# 计算平均损失\n",
    "avg_loss = fluid.layers.mean(cost)\n",
    "# 计算分类准确率\n",
    "acc = fluid.layers.accuracy(input=predict, label=y)\n",
    "\n",
    "# 告知网络传入的数据分为两部分，第一部分是img值X，第二部分是label值y\n",
    "feeder = fluid.DataFeeder(feed_list=[X, y], place=place)\n",
    "# 选择Adam优化器，使损失最小化\n",
    "optimizer = fluid.optimizer.Adam(learning_rate=0.001).minimize(avg_loss)\n"
   ]
  },
  {
   "cell_type": "markdown",
   "metadata": {},
   "source": [
    "# 训练模型"
   ]
  },
  {
   "cell_type": "code",
   "execution_count": 3,
   "metadata": {
    "collapsed": false
   },
   "outputs": [],
   "source": [
    "# 创建执行器\n",
    "executor = fluid.Executor(place)\n",
    "executor.run(fluid.default_startup_program())\n",
    "\n",
    "# 设置 main_program 和 test_program\n",
    "main_program = fluid.default_main_program()\n",
    "test_program = fluid.default_main_program().clone(for_test=True)\n"
   ]
  },
  {
   "cell_type": "code",
   "execution_count": 4,
   "metadata": {
    "collapsed": false
   },
   "outputs": [],
   "source": [
    "def test_loss_acc(test_program, test_reader, test_feeder):\n",
    "    \"\"\"\n",
    "    在训练模型时，计算测试集的损失值和精确度\n",
    "    \"\"\"\n",
    "    loss_arr = []\n",
    "    accuracy_arr = []\n",
    "    # 开始迭代测试loss和acc\n",
    "    for test_data in test_reader():\n",
    "        # 在Paddle中推理计算loss和acc\n",
    "        _loss, _acc = executor.run(test_program, \n",
    "                                   feed=test_feeder.feed(test_data), \n",
    "                                   fetch_list=[avg_loss, acc])\n",
    "        loss_arr.append(float(_loss))\n",
    "        accuracy_arr.append(float(_acc))\n",
    "    # 获得测试数据集上的准确率和损失值的均值\n",
    "    loss_mean = np.array(loss_arr).mean()\n",
    "    accuracy_mean = np.array(accuracy_arr).mean()\n",
    "    return loss_mean, accuracy_mean"
   ]
  },
  {
   "cell_type": "code",
   "execution_count": 5,
   "metadata": {
    "collapsed": false
   },
   "outputs": [
    {
     "name": "stdout",
     "output_type": "stream",
     "text": [
      "train_reader分了938个batch，test_reader分了157个batch。\n"
     ]
    }
   ],
   "source": [
    "BATCH_SIZE = 64\n",
    "# 通过batch返回数据集的总数量除以64的批次数，所以就是 \n",
    "# batch的数量是 60000 / 64 = 937.5 向上取整等于938\n",
    "train_reader = paddle.batch(paddle.reader.shuffle(train, buf_size=500), batch_size=BATCH_SIZE)\n",
    "# batch的数量是 10000 / 64 = 156.25 向上取整等于157\n",
    "test_reader = paddle.batch(paddle.reader.shuffle(test, buf_size=500), batch_size=BATCH_SIZE)\n",
    "\n",
    "train_reader_length = len([1 for _ in train_reader()])\n",
    "test_reader_length = len([1 for _ in test_reader()])\n",
    "print(\"train_reader分了{}个batch，test_reader分了{}个batch。\".format(train_reader_length, test_reader_length))"
   ]
  },
  {
   "cell_type": "code",
   "execution_count": 6,
   "metadata": {
    "collapsed": false
   },
   "outputs": [
    {
     "name": "stdout",
     "output_type": "stream",
     "text": [
      "Train Epoch 0, step_i 0, loss 3.662783145904541, acc 0.0625\n",
      "Valid Epoch 0, step_i 0，loss 0.9381991980751608，acc 0.7200437898089171\n",
      "Train Epoch 0, step_i 100, loss 0.4590408504009247, acc 0.890625\n",
      "Valid Epoch 0, step_i 100，loss 0.40269697471788735，acc 0.8835589171974523\n",
      "Train Epoch 0, step_i 200, loss 0.31612035632133484, acc 0.921875\n",
      "Valid Epoch 0, step_i 200，loss 0.3462911493079677，acc 0.8993829617834395\n",
      "Train Epoch 0, step_i 300, loss 0.2031039297580719, acc 0.9375\n",
      "Valid Epoch 0, step_i 300，loss 0.31732828160569926，acc 0.9067476114649682\n",
      "Train Epoch 0, step_i 400, loss 0.35602274537086487, acc 0.90625\n",
      "Valid Epoch 0, step_i 400，loss 0.3001301080510495，acc 0.9129179936305732\n",
      "Train Epoch 0, step_i 500, loss 0.6872471570968628, acc 0.8125\n",
      "Valid Epoch 0, step_i 500，loss 0.29144867859590967，acc 0.9171974522292994\n",
      "Train Epoch 0, step_i 600, loss 0.32285529375076294, acc 0.921875\n",
      "Valid Epoch 0, step_i 600，loss 0.2795794809082891，acc 0.9185907643312102\n",
      "Train Epoch 0, step_i 700, loss 0.3351859748363495, acc 0.890625\n",
      "Valid Epoch 0, step_i 700，loss 0.2781083173219376，acc 0.9190883757961783\n",
      "Train Epoch 0, step_i 800, loss 0.44457152485847473, acc 0.859375\n",
      "Valid Epoch 0, step_i 800，loss 0.2653331849842694，acc 0.9223726114649682\n",
      "Train Epoch 0, step_i 900, loss 0.16235624253749847, acc 0.953125\n",
      "Valid Epoch 0, step_i 900，loss 0.262612160947767，acc 0.9234673566878981\n",
      "Train Epoch 1, step_i 1000, loss 0.2839052975177765, acc 0.921875\n",
      "Valid Epoch 1, step_i 1000，loss 0.2597045338101638，acc 0.9242635350318471\n",
      "Train Epoch 1, step_i 1100, loss 0.19557449221611023, acc 0.9375\n",
      "Valid Epoch 1, step_i 1100，loss 0.25383121385031443，acc 0.9261544585987261\n",
      "Train Epoch 1, step_i 1200, loss 0.4887450337409973, acc 0.828125\n",
      "Valid Epoch 1, step_i 1200，loss 0.2521368402180968，acc 0.9255573248407644\n",
      "Train Epoch 1, step_i 1300, loss 0.1922369748353958, acc 0.9375\n",
      "Valid Epoch 1, step_i 1300，loss 0.25376913933807116，acc 0.9243630573248408\n",
      "Train Epoch 1, step_i 1400, loss 0.11134225875139236, acc 0.984375\n",
      "Valid Epoch 1, step_i 1400，loss 0.24790052070051052，acc 0.927547770700637\n",
      "Train Epoch 1, step_i 1500, loss 0.3009542226791382, acc 0.90625\n",
      "Valid Epoch 1, step_i 1500，loss 0.24554777767058392，acc 0.9279458598726115\n",
      "Train Epoch 1, step_i 1600, loss 0.26610037684440613, acc 0.953125\n",
      "Valid Epoch 1, step_i 1600，loss 0.24222902749564237，acc 0.9278463375796179\n",
      "Train Epoch 1, step_i 1700, loss 0.4050664007663727, acc 0.828125\n",
      "Valid Epoch 1, step_i 1700，loss 0.23799865832255715，acc 0.9289410828025477\n",
      "Train Epoch 1, step_i 1800, loss 0.5268443822860718, acc 0.875\n",
      "Valid Epoch 1, step_i 1800，loss 0.2386211869633122，acc 0.9299363057324841\n",
      "Train Epoch 2, step_i 1900, loss 0.2635645866394043, acc 0.9375\n",
      "Valid Epoch 2, step_i 1900，loss 0.24025795192333163，acc 0.9303343949044586\n",
      "Train Epoch 2, step_i 2000, loss 0.18215148150920868, acc 0.921875\n",
      "Valid Epoch 2, step_i 2000，loss 0.23147837715638672，acc 0.9312300955414012\n",
      "Train Epoch 2, step_i 2100, loss 0.23179921507835388, acc 0.90625\n",
      "Valid Epoch 2, step_i 2100，loss 0.2288188489308213，acc 0.9321257961783439\n",
      "Train Epoch 2, step_i 2200, loss 0.4936698079109192, acc 0.890625\n",
      "Valid Epoch 2, step_i 2200，loss 0.2255846925412014，acc 0.9347133757961783\n",
      "Train Epoch 2, step_i 2300, loss 0.40949746966362, acc 0.921875\n",
      "Valid Epoch 2, step_i 2300，loss 0.22918523610777156，acc 0.9314291401273885\n",
      "Train Epoch 2, step_i 2400, loss 0.24956399202346802, acc 0.9375\n",
      "Valid Epoch 2, step_i 2400，loss 0.22304479407063524，acc 0.9336186305732485\n",
      "Train Epoch 2, step_i 2500, loss 0.36530420184135437, acc 0.90625\n",
      "Valid Epoch 2, step_i 2500，loss 0.22846223068702373，acc 0.9327229299363057\n",
      "Train Epoch 2, step_i 2600, loss 0.47652024030685425, acc 0.859375\n",
      "Valid Epoch 2, step_i 2600，loss 0.21731734717157997，acc 0.9369028662420382\n",
      "Train Epoch 2, step_i 2700, loss 0.3225865960121155, acc 0.890625\n",
      "Valid Epoch 2, step_i 2700，loss 0.21815517577965549，acc 0.9369028662420382\n",
      "Train Epoch 2, step_i 2800, loss 0.1185508668422699, acc 0.96875\n",
      "Valid Epoch 2, step_i 2800，loss 0.22102983730139247，acc 0.9330214968152867\n",
      "Train Epoch 3, step_i 2900, loss 0.26087188720703125, acc 0.90625\n",
      "Valid Epoch 3, step_i 2900，loss 0.21318164525945096，acc 0.9375995222929936\n",
      "Train Epoch 3, step_i 3000, loss 0.2718609869480133, acc 0.890625\n",
      "Valid Epoch 3, step_i 3000，loss 0.2154820143559556，acc 0.9373009554140127\n",
      "Train Epoch 3, step_i 3100, loss 0.2545078992843628, acc 0.921875\n",
      "Valid Epoch 3, step_i 3100，loss 0.20669466832498457，acc 0.9375995222929936\n",
      "Train Epoch 3, step_i 3200, loss 0.35757070779800415, acc 0.90625\n",
      "Valid Epoch 3, step_i 3200，loss 0.21002419138695025，acc 0.9397890127388535\n",
      "Train Epoch 3, step_i 3300, loss 0.9646394848823547, acc 0.828125\n",
      "Valid Epoch 3, step_i 3300，loss 0.2117077712752637，acc 0.9376990445859873\n",
      "Train Epoch 3, step_i 3400, loss 0.33673667907714844, acc 0.890625\n",
      "Valid Epoch 3, step_i 3400，loss 0.20950250025055592，acc 0.9399880573248408\n",
      "Train Epoch 3, step_i 3500, loss 0.19575275480747223, acc 0.921875\n",
      "Valid Epoch 3, step_i 3500，loss 0.20869791398572315，acc 0.9386942675159236\n",
      "Train Epoch 3, step_i 3600, loss 0.41893377900123596, acc 0.875\n",
      "Valid Epoch 3, step_i 3600，loss 0.20949404139759814，acc 0.9406847133757962\n",
      "Train Epoch 3, step_i 3700, loss 0.14085827767848969, acc 0.953125\n",
      "Valid Epoch 3, step_i 3700，loss 0.20739536299399888，acc 0.9381966560509554\n",
      "Train Epoch 4, step_i 3800, loss 0.19720561802387238, acc 0.890625\n",
      "Valid Epoch 4, step_i 3800，loss 0.20231081467643855，acc 0.941281847133758\n",
      "Train Epoch 4, step_i 3900, loss 0.3399297595024109, acc 0.921875\n",
      "Valid Epoch 4, step_i 3900，loss 0.2032703744828891，acc 0.9417794585987261\n",
      "Train Epoch 4, step_i 4000, loss 0.4968741536140442, acc 0.875\n",
      "Valid Epoch 4, step_i 4000，loss 0.20243169392227747，acc 0.9411823248407644\n",
      "Train Epoch 4, step_i 4100, loss 0.26918068528175354, acc 0.921875\n",
      "Valid Epoch 4, step_i 4100，loss 0.2000912293008748，acc 0.9437699044585988\n",
      "Train Epoch 4, step_i 4200, loss 0.28972071409225464, acc 0.921875\n",
      "Valid Epoch 4, step_i 4200，loss 0.1988240717406011，acc 0.9407842356687898\n",
      "Train Epoch 4, step_i 4300, loss 0.27597445249557495, acc 0.953125\n",
      "Valid Epoch 4, step_i 4300，loss 0.19712754004415434，acc 0.9423765923566879\n",
      "Train Epoch 4, step_i 4400, loss 0.1955145299434662, acc 0.9375\n",
      "Valid Epoch 4, step_i 4400，loss 0.19713637284388777，acc 0.9417794585987261\n",
      "Train Epoch 4, step_i 4500, loss 0.350452721118927, acc 0.90625\n",
      "Valid Epoch 4, step_i 4500，loss 0.19813986520051577，acc 0.9416799363057324\n",
      "Train Epoch 4, step_i 4600, loss 0.1873813271522522, acc 0.9375\n",
      "Valid Epoch 4, step_i 4600，loss 0.19667905686529957，acc 0.9430732484076433\n"
     ]
    }
   ],
   "source": [
    "epochs = 5\n",
    "saved_model_filename = \"mnist.inference.model\" \n",
    "result_arr = []     \n",
    "step = 0 \n",
    "# 开始迭代训练模型 \n",
    "for epoch_id in range(epochs): \n",
    "    # 遍历训练集数据 \n",
    "    for step_i, data in enumerate(train_reader()): \n",
    "         \n",
    "        # 训练模型 \n",
    "        metrics = executor.run(main_program,  \n",
    "                               feed=feeder.feed(data),  \n",
    "                               fetch_list=[avg_loss, acc]) \n",
    "         \n",
    "        # 每训练100次打印一次日志 \n",
    "        if step % 100 == 0: \n",
    "            loss_train, accuracy_train = metrics[0][0], metrics[1][0]\n",
    "            print(\"Train Epoch {}, step_i {}, loss {}, acc {}\".format(epoch_id, \n",
    "                                                                 step, \n",
    "                                                                 metrics[0][0], \n",
    "                                                                 metrics[1][0])) \n",
    "            # 评估测试集的分类效果 \n",
    "            loss_val, accuracy_val = test_loss_acc(test_program, test_reader, feeder) \n",
    "            print(\"Valid Epoch {}, step_i {}，loss {}，acc {}\".format(epoch_id,  \n",
    "                                                                 step,  \n",
    "                                                                 loss_val, \n",
    "                                                                 accuracy_val)) \n",
    "        step += 1 \n",
    "         \n",
    "        result_arr.append((epoch_id, loss_val, accuracy_val, loss_train, accuracy_train)) \n",
    "         \n",
    "        # 保存训练好的模型参数用于预测 \n",
    "        fluid.io.save_inference_model(saved_model_filename, \n",
    "                                      [\"img\"],  \n",
    "                                      [predict],  \n",
    "                                      executor, \n",
    "                                      model_filename=None, \n",
    "                                      params_filename=None) "
   ]
  },
  {
   "cell_type": "code",
   "execution_count": 20,
   "metadata": {
    "collapsed": false
   },
   "outputs": [
    {
     "name": "stdout",
     "output_type": "stream",
     "text": [
      "Valid Loss 0.19667905686529957, Acc 94.30732%.\n",
      "Train Loss 0.1873813271522522, Acc 93.75000%.\n"
     ]
    }
   ],
   "source": [
    "# 选择效果最好的\n",
    "best_predict = sorted(result_arr, key=lambda ele:float(ele[1]))[0]\n",
    "print(\"Valid Loss {}, Acc {:.5f}%.\".format(best_predict[1], float(best_predict[2])*100))\n",
    "print(\"Train Loss {}, Acc {:.5f}%.\".format(best_predict[3], float(best_predict[4])*100))"
   ]
  },
  {
   "cell_type": "code",
   "execution_count": 45,
   "metadata": {
    "collapsed": false
   },
   "outputs": [],
   "source": [
    "import matplotlib.pyplot as plt\n",
    "%matplotlib inline\n",
    "\n",
    "result_np = np.array(result_arr)\n",
    "loss_val = result_np[:,1]\n",
    "accuracy_val = result_np[:,2] \n",
    "loss_train = result_np[:,3]\n",
    "accuracy_train = result_np[:,4]"
   ]
  },
  {
   "cell_type": "code",
   "execution_count": 46,
   "metadata": {
    "collapsed": false
   },
   "outputs": [
    {
     "data": {
      "image/png": "[encoded data removed]",
      "text/plain": [
       "<Figure size 432x288 with 1 Axes>"
      ]
     },
     "metadata": {},
     "output_type": "display_data"
    },
    {
     "data": {
      "image/png": "[encoded data removed]",
      "text/plain": [
       "<Figure size 432x288 with 1 Axes>"
      ]
     },
     "metadata": {},
     "output_type": "display_data"
    }
   ],
   "source": [
    "# 绘制训练集和验证集的损失值 \n",
    "plt.plot(loss_train) \n",
    "plt.plot(loss_val) \n",
    "plt.title('Model Loss') \n",
    "plt.ylabel('Loss') \n",
    "plt.xlabel('Epoch') \n",
    "plt.legend(['train', 'test'], loc='upper left') \n",
    "plt.show() \n",
    "\n",
    "# 绘制训练集和验证集的精确度 \n",
    "plt.plot(accuracy_val) \n",
    "plt.plot(accuracy_train) \n",
    "plt.title('Model Accuracy') \n",
    "plt.ylabel('Accuracy') \n",
    "plt.xlabel('Epoch') \n",
    "plt.legend(['train', 'test'], loc='upper left') \n",
    "plt.show() "
   ]
  },
  {
   "cell_type": "markdown",
   "metadata": {},
   "source": [
    "# 随便选择一张图像来测试模型"
   ]
  },
  {
   "cell_type": "code",
   "execution_count": 53,
   "metadata": {
    "collapsed": false
   },
   "outputs": [
    {
     "data": {
      "image/png": "[encoded data removed]",
      "text/plain": [
       "<Figure size 432x288 with 1 Axes>"
      ]
     },
     "metadata": {},
     "output_type": "display_data"
    },
    {
     "name": "stdout",
     "output_type": "stream",
     "text": [
      "这张图像的标签是5。\n"
     ]
    }
   ],
   "source": [
    "import matplotlib.pyplot as plt \n",
    "import matplotlib.image as mpimg \n",
    " \n",
    "img_matrix = next(train())[0].reshape(28, 28) \n",
    "img_label = next(train())[1]\n",
    "\n",
    "imgplot = plt.imshow(img_matrix, cmap=\"gray\") \n",
    "plt.show() \n",
    "print(\"这张图像的标签是{}。\".format(img_label))"
   ]
  },
  {
   "cell_type": "code",
   "execution_count": 73,
   "metadata": {
    "collapsed": false
   },
   "outputs": [
    {
     "name": "stdout",
     "output_type": "stream",
     "text": [
      "Accuracy = 0.9278314113616943, Label = 5\n"
     ]
    }
   ],
   "source": [
    "# 创建执行器\n",
    "test_executor = fluid.Executor(place)\n",
    "test_executor.run(fluid.default_startup_program())\n",
    "\n",
    "inference_scope = fluid.core.Scope()\n",
    "with fluid.scope_guard(inference_scope):\n",
    "    # 加载模型\n",
    "    [inference_program, feed_target_names, fetch_targets] = \\\n",
    "    fluid.io.load_inference_model(saved_model_filename, test_executor, None, None)\n",
    "    \n",
    "    # 运行推理图像\n",
    "    results = test_executor.run(inference_program, \n",
    "                                feed={feed_target_names[0]: img_matrix.reshape(1,1,28,28)}, \n",
    "                                fetch_list=fetch_targets)\n",
    "    # 预测的标签\n",
    "    predicted_label = np.argmax(results[0][0])\n",
    "    # 预测概率\n",
    "    predicted_prob = max(results[0][0])\n",
    "    print(\"Accuracy = {}, Label = {}\".format(predicted_prob, predicted_label))"
   ]
  },
  {
   "cell_type": "code",
   "execution_count": 25,
   "metadata": {
    "collapsed": false
   },
   "outputs": [
    {
     "name": "stdout",
     "output_type": "stream",
     "text": [
      "total 112K\r\n",
      "drwxrwxrwx  2 root     root 4.0K May  4 07:12 .\r\n",
      "drwxrwxrwx 16 aistudio 1000 4.0K May  4 10:31 ..\r\n",
      "-rwxrwxrwx  1 root     root   64 May  4 10:00 fc_0.b_0\r\n",
      "-rwxrwxrwx  1 root     root  31K May  4 10:00 fc_0.w_0\r\n",
      "-rwxrwxrwx  1 root     root   64 May  4 07:12 fc_3.b_0\r\n",
      "-rwxrwxrwx  1 root     root  31K May  4 07:12 fc_3.w_0\r\n",
      "-rwxrwxrwx  1 root     root  31K May  4 10:00 __model__\r\n"
     ]
    }
   ],
   "source": [
    "!ls -lha mnist.inference.model"
   ]
  },
  {
   "cell_type": "markdown",
   "metadata": {},
   "source": [
    "### 请关注公众号，免费获得更多的学习教程和资料\n",
    "![](https://ai-studio-static-online.cdn.bcebos.com/c1ef6aea9943477c83541807e56c5066b0a16810dda843839ebe0edc3968748f)\n",
    "\n",
    "### <a href=\"https://blog.csdn.net/u013538542\" target=\"_blank\">CSDN博客</a>\n",
    "### <a href=\"https://github.com/21-projects-for-deep-learning\" target=\"_blank\">Github主页</a>"
   ]
  }
 ],
 "metadata": {
  "kernelspec": {
   "display_name": "PaddlePaddle 1.3.2 (Python 3.5)",
   "language": "python",
   "name": "py35-paddle1.2.0"
  },
  "language_info": {
   "codemirror_mode": {
    "name": "ipython",
    "version": 3
   },
   "file_extension": ".py",
   "mimetype": "text/x-python",
   "name": "python",
   "nbconvert_exporter": "python",
   "pygments_lexer": "ipython3",
   "version": "3.5.5"
  }
 },
 "nbformat": 4,
 "nbformat_minor": 1
}

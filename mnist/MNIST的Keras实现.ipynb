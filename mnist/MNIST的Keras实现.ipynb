{
 "cells": [
  {
   "cell_type": "markdown",
   "metadata": {},
   "source": [
    "# 基于Keras的MNIST手写数字识别\n",
    "### 作者：张强   \n",
    "### 微信号：MrZhangQiang2019\n",
    "### 请关注公众号，免费获得更多的学习教程和资料\n",
    "![](https://ai-studio-static-online.cdn.bcebos.com/c1ef6aea9943477c83541807e56c5066b0a16810dda843839ebe0edc3968748f)\n",
    "\n",
    "### <a href=\"https://blog.csdn.net/u013538542\" target=\"_blank\">CSDN博客</a>\n",
    "### <a href=\"https://github.com/21-projects-for-deep-learning\" target=\"_blank\">Github主页</a>"
   ]
  },
  {
   "cell_type": "code",
   "execution_count": 2,
   "metadata": {
    "collapsed": false
   },
   "outputs": [],
   "source": [
    "!pip install keras"
   ]
  },
  {
   "cell_type": "code",
   "execution_count": 3,
   "metadata": {
    "collapsed": false
   },
   "outputs": [],
   "source": [
    "!pip install tensorflow"
   ]
  },
  {
   "cell_type": "code",
   "execution_count": 4,
   "metadata": {
    "collapsed": false
   },
   "outputs": [
    {
     "name": "stdout",
     "output_type": "stream",
     "text": [
      "1.13.1\n"
     ]
    }
   ],
   "source": [
    "import tensorflow\n",
    "print(tensorflow.__version__)"
   ]
  },
  {
   "cell_type": "code",
   "execution_count": 5,
   "metadata": {
    "collapsed": false
   },
   "outputs": [
    {
     "name": "stdout",
     "output_type": "stream",
     "text": [
      "2.2.4\n"
     ]
    },
    {
     "name": "stderr",
     "output_type": "stream",
     "text": [
      "Using TensorFlow backend.\n"
     ]
    }
   ],
   "source": [
    "import keras\n",
    "print(keras.__version__)"
   ]
  },
  {
   "cell_type": "code",
   "execution_count": 6,
   "metadata": {
    "collapsed": false
   },
   "outputs": [
    {
     "name": "stdout",
     "output_type": "stream",
     "text": [
      "2.2.3\n"
     ]
    }
   ],
   "source": [
    "import matplotlib\n",
    "print(matplotlib.__version__)"
   ]
  },
  {
   "cell_type": "code",
   "execution_count": 7,
   "metadata": {
    "collapsed": false
   },
   "outputs": [
    {
     "name": "stdout",
     "output_type": "stream",
     "text": [
      "1.15.4\n"
     ]
    }
   ],
   "source": [
    "import numpy\n",
    "print(numpy.__version__)"
   ]
  },
  {
   "cell_type": "markdown",
   "metadata": {},
   "source": [
    "# 获取MNIST数据集"
   ]
  },
  {
   "cell_type": "code",
   "execution_count": 8,
   "metadata": {
    "collapsed": false
   },
   "outputs": [
    {
     "name": "stdout",
     "output_type": "stream",
     "text": [
      "Downloading data from https://s3.amazonaws.com/img-datasets/mnist.npz\n",
      "11493376/11490434 [==============================] - 48s 4us/step\n"
     ]
    }
   ],
   "source": [
    "import keras\n",
    "from keras.datasets import  mnist\n",
    "\n",
    "(X_train, y_train), (X_test, y_test) = mnist.load_data()"
   ]
  },
  {
   "cell_type": "code",
   "execution_count": 9,
   "metadata": {
    "collapsed": false
   },
   "outputs": [
    {
     "name": "stdout",
     "output_type": "stream",
     "text": [
      "X_train.shape=(60000, 28, 28), y_train.shape=(60000,)\n",
      "X_test.shape=(10000, 28, 28), y_test.shape=(10000,)\n"
     ]
    }
   ],
   "source": [
    "print(\"X_train.shape={}, y_train.shape={}\".format(X_train.shape, y_train.shape))\n",
    "print(\"X_test.shape={}, y_test.shape={}\".format(X_test.shape, y_test.shape))"
   ]
  },
  {
   "cell_type": "markdown",
   "metadata": {},
   "source": [
    "# 随机显示5个MNIST图像"
   ]
  },
  {
   "cell_type": "code",
   "execution_count": 25,
   "metadata": {
    "collapsed": false
   },
   "outputs": [
    {
     "data": {
      "image/png": "[encoded data removed]",
      "text/plain": [
       "<Figure size 720x720 with 5 Axes>"
      ]
     },
     "metadata": {},
     "output_type": "display_data"
    }
   ],
   "source": [
    "import matplotlib.pyplot as plt\n",
    "%matplotlib inline\n",
    "import numpy as np\n",
    "\n",
    "fig = plt.figure(figsize=(10, 10))\n",
    "for i in range(5):\n",
    "    ax = fig.add_subplot(1, 5, i+1)\n",
    "    ax.imshow(np.reshape(X_train[i:i+1], (28, 28)), cmap='gray')"
   ]
  },
  {
   "cell_type": "markdown",
   "metadata": {},
   "source": [
    "# 分割测试集，一半给验证集，另一半给测试集\n"
   ]
  },
  {
   "cell_type": "code",
   "execution_count": 10,
   "metadata": {
    "collapsed": false
   },
   "outputs": [
    {
     "name": "stdout",
     "output_type": "stream",
     "text": [
      "X_train.shape=(60000, 28, 28), y_train.shape=(60000,)\n",
      "X_valid.shape=(5000, 28, 28), y_valid.shape=(5000,)\n",
      "X_test.shape=(5000, 28, 28), y_test.shape=(5000,)\n"
     ]
    }
   ],
   "source": [
    "valid_len = int(X_test.shape[0] / 2)\n",
    "\n",
    "X_valid = X_test[:valid_len]\n",
    "y_valid = y_test[:valid_len]\n",
    "\n",
    "X_test = X_test[valid_len:]\n",
    "y_test = y_test[valid_len:]\n",
    "\n",
    "print(\"X_train.shape={}, y_train.shape={}\".format(X_train.shape, y_train.shape))\n",
    "print(\"X_valid.shape={}, y_valid.shape={}\".format(X_valid.shape, y_valid.shape))\n",
    "print(\"X_test.shape={}, y_test.shape={}\".format(X_test.shape, y_test.shape))"
   ]
  },
  {
   "cell_type": "markdown",
   "metadata": {},
   "source": [
    "# 数据集预处理"
   ]
  },
  {
   "cell_type": "code",
   "execution_count": 12,
   "metadata": {
    "collapsed": false
   },
   "outputs": [],
   "source": [
    "import numpy as np\n",
    "\n",
    "img_size = 28 * 28\n",
    "num_classes = 10\n",
    "\n",
    "# 将训练集、验证集和测试集数据进行图像向量转换\n",
    "X_train = X_train.reshape(X_train.shape[0], img_size)\n",
    "X_valid = X_valid.reshape(X_valid.shape[0], img_size)\n",
    "X_test = X_test.reshape(X_test.shape[0], img_size)\n",
    "\n",
    "# 将训练集、验证集和测试集数据都转换成float32类型\n",
    "X_train = X_train.astype(np.float32)\n",
    "X_valid = X_valid.astype(np.float32)\n",
    "X_test = X_test.astype(np.float32)\n",
    "\n",
    "# 将训练集、验证集和测试集数据都转换成0到1之间的数值，就是归一化处理\n",
    "X_train /= 255\n",
    "X_valid /= 255\n",
    "X_test /= 255\n",
    "\n",
    "# 通过to_categorical()函数将训练集标签、验证集标签和测试集标签独热编码（one-hot encoding）\n",
    "y_train = keras.utils.to_categorical(y_train, num_classes)\n",
    "y_valid = keras.utils.to_categorical(y_valid, num_classes)\n",
    "y_test = keras.utils.to_categorical(y_test, num_classes)"
   ]
  },
  {
   "cell_type": "markdown",
   "metadata": {},
   "source": [
    "# 创建Keras的多层感知器模型"
   ]
  },
  {
   "cell_type": "code",
   "execution_count": 13,
   "metadata": {
    "collapsed": false
   },
   "outputs": [
    {
     "name": "stdout",
     "output_type": "stream",
     "text": [
      "WARNING:tensorflow:From /opt/conda/envs/python35-paddle120-env/lib/python3.5/site-packages/tensorflow/python/framework/op_def_library.py:263: colocate_with (from tensorflow.python.framework.ops) is deprecated and will be removed in a future version.\n",
      "Instructions for updating:\n",
      "Colocations handled automatically by placer.\n",
      "WARNING:tensorflow:From /opt/conda/envs/python35-paddle120-env/lib/python3.5/site-packages/keras/backend/tensorflow_backend.py:3445: calling dropout (from tensorflow.python.ops.nn_ops) with keep_prob is deprecated and will be removed in a future version.\n",
      "Instructions for updating:\n",
      "Please use `rate` instead of `keep_prob`. Rate should be set to `rate = 1 - keep_prob`.\n",
      "_________________________________________________________________\n",
      "Layer (type)                 Output Shape              Param #   \n",
      "=================================================================\n",
      "dense_1 (Dense)              (None, 512)               401920    \n",
      "_________________________________________________________________\n",
      "dropout_1 (Dropout)          (None, 512)               0         \n",
      "_________________________________________________________________\n",
      "dense_2 (Dense)              (None, 512)               262656    \n",
      "_________________________________________________________________\n",
      "dropout_2 (Dropout)          (None, 512)               0         \n",
      "_________________________________________________________________\n",
      "dense_3 (Dense)              (None, 10)                5130      \n",
      "=================================================================\n",
      "Total params: 669,706\n",
      "Trainable params: 669,706\n",
      "Non-trainable params: 0\n",
      "_________________________________________________________________\n"
     ]
    }
   ],
   "source": [
    "from keras import Sequential\n",
    "from keras.layers import Dense, Dropout\n",
    "\n",
    "# 创建Sequential模型\n",
    "model = Sequential()\n",
    "\n",
    "# 创建输入层，有512个深度，必须要传的参数是input_shape，它表示输入的图像的大小\n",
    "model.add(Dense(512, activation='relu', input_shape=(img_size,)))\n",
    "model.add(Dropout(0.2))\n",
    "\n",
    "# 创建一个隐藏层，也有512个深度\n",
    "model.add(Dense(512, activation='relu'))\n",
    "model.add(Dropout(0.2))\n",
    "\n",
    "# 添加输出层，因为有10个类别的概率输出，所以使用softmax\n",
    "model.add(Dense(num_classes, activation='softmax'))\n",
    "\n",
    "# 模型架构预览\n",
    "model.summary()"
   ]
  },
  {
   "cell_type": "markdown",
   "metadata": {},
   "source": [
    "# 编译模型"
   ]
  },
  {
   "cell_type": "code",
   "execution_count": 14,
   "metadata": {
    "collapsed": false
   },
   "outputs": [],
   "source": [
    "from keras.optimizers import RMSprop\n",
    "model.compile(loss='categorical_crossentropy', optimizer=RMSprop(), metrics=['accuracy'])"
   ]
  },
  {
   "cell_type": "markdown",
   "metadata": {},
   "source": [
    "# 训练模型"
   ]
  },
  {
   "cell_type": "code",
   "execution_count": 15,
   "metadata": {
    "collapsed": false
   },
   "outputs": [
    {
     "name": "stdout",
     "output_type": "stream",
     "text": [
      "WARNING:tensorflow:From /opt/conda/envs/python35-paddle120-env/lib/python3.5/site-packages/tensorflow/python/ops/math_ops.py:3066: to_int32 (from tensorflow.python.ops.math_ops) is deprecated and will be removed in a future version.\n",
      "Instructions for updating:\n",
      "Use tf.cast instead.\n",
      "Train on 60000 samples, validate on 5000 samples\n",
      "Epoch 1/20\n",
      "60000/60000 [==============================] - 9s 150us/step - loss: 0.2438 - acc: 0.9242 - val_loss: 0.1313 - val_acc: 0.9592\n",
      "Epoch 2/20\n",
      "60000/60000 [==============================] - 9s 146us/step - loss: 0.1012 - acc: 0.9691 - val_loss: 0.1032 - val_acc: 0.9692\n",
      "Epoch 3/20\n",
      "60000/60000 [==============================] - 9s 147us/step - loss: 0.0750 - acc: 0.9770 - val_loss: 0.0983 - val_acc: 0.9700\n",
      "Epoch 4/20\n",
      "60000/60000 [==============================] - 9s 144us/step - loss: 0.0602 - acc: 0.9818 - val_loss: 0.0927 - val_acc: 0.9716\n",
      "Epoch 5/20\n",
      "60000/60000 [==============================] - 9s 145us/step - loss: 0.0497 - acc: 0.9846 - val_loss: 0.1006 - val_acc: 0.9738\n",
      "Epoch 6/20\n",
      "60000/60000 [==============================] - 9s 150us/step - loss: 0.0436 - acc: 0.9871 - val_loss: 0.1111 - val_acc: 0.9716\n",
      "Epoch 7/20\n",
      "60000/60000 [==============================] - 9s 145us/step - loss: 0.0377 - acc: 0.9889 - val_loss: 0.1196 - val_acc: 0.9710\n",
      "Epoch 8/20\n",
      "60000/60000 [==============================] - 9s 145us/step - loss: 0.0338 - acc: 0.9893 - val_loss: 0.1141 - val_acc: 0.9754\n",
      "Epoch 9/20\n",
      "60000/60000 [==============================] - 9s 145us/step - loss: 0.0318 - acc: 0.9909 - val_loss: 0.1237 - val_acc: 0.9728\n",
      "Epoch 10/20\n",
      "60000/60000 [==============================] - 9s 144us/step - loss: 0.0297 - acc: 0.9916 - val_loss: 0.1137 - val_acc: 0.9774\n",
      "Epoch 11/20\n",
      "60000/60000 [==============================] - 9s 144us/step - loss: 0.0261 - acc: 0.9925 - val_loss: 0.1029 - val_acc: 0.9786\n",
      "Epoch 12/20\n",
      "60000/60000 [==============================] - 9s 143us/step - loss: 0.0251 - acc: 0.9930 - val_loss: 0.1161 - val_acc: 0.9746\n",
      "Epoch 13/20\n",
      "60000/60000 [==============================] - 9s 153us/step - loss: 0.0241 - acc: 0.9934 - val_loss: 0.1210 - val_acc: 0.9778\n",
      "Epoch 14/20\n",
      "60000/60000 [==============================] - 9s 147us/step - loss: 0.0235 - acc: 0.9933 - val_loss: 0.1156 - val_acc: 0.9772\n",
      "Epoch 15/20\n",
      "60000/60000 [==============================] - 9s 144us/step - loss: 0.0204 - acc: 0.9943 - val_loss: 0.1381 - val_acc: 0.9746\n",
      "Epoch 16/20\n",
      "60000/60000 [==============================] - 9s 147us/step - loss: 0.0209 - acc: 0.9943 - val_loss: 0.1403 - val_acc: 0.9750\n",
      "Epoch 17/20\n",
      "60000/60000 [==============================] - 9s 145us/step - loss: 0.0210 - acc: 0.9941 - val_loss: 0.1464 - val_acc: 0.9784\n",
      "Epoch 18/20\n",
      "60000/60000 [==============================] - 9s 146us/step - loss: 0.0190 - acc: 0.9948 - val_loss: 0.1506 - val_acc: 0.9756\n",
      "Epoch 19/20\n",
      "60000/60000 [==============================] - 9s 145us/step - loss: 0.0174 - acc: 0.9953 - val_loss: 0.1456 - val_acc: 0.9776\n",
      "Epoch 20/20\n",
      "60000/60000 [==============================] - 9s 152us/step - loss: 0.0182 - acc: 0.9955 - val_loss: 0.1736 - val_acc: 0.9758\n"
     ]
    }
   ],
   "source": [
    "epochs = 20\n",
    "batch_size = 128\n",
    "\n",
    "history = model.fit(X_train, y_train, epochs=epochs, batch_size=batch_size, verbose=1, validation_data=(X_valid, y_valid))"
   ]
  },
  {
   "cell_type": "code",
   "execution_count": 16,
   "metadata": {
    "collapsed": false
   },
   "outputs": [
    {
     "name": "stdout",
     "output_type": "stream",
     "text": [
      "dict_keys(['val_loss', 'loss', 'acc', 'val_acc'])\n"
     ]
    }
   ],
   "source": [
    "print(history.history.keys())"
   ]
  },
  {
   "cell_type": "code",
   "execution_count": 18,
   "metadata": {
    "collapsed": false
   },
   "outputs": [
    {
     "data": {
      "image/png": "[encoded data removed]",
      "text/plain": [
       "<Figure size 432x288 with 1 Axes>"
      ]
     },
     "metadata": {},
     "output_type": "display_data"
    },
    {
     "data": {
      "image/png": "[encoded data removed]",
      "text/plain": [
       "<Figure size 432x288 with 1 Axes>"
      ]
     },
     "metadata": {},
     "output_type": "display_data"
    }
   ],
   "source": [
    "import matplotlib.pyplot as plt\n",
    "%matplotlib inline\n",
    "\n",
    "# 绘制训练集和验证集的精确度\n",
    "plt.plot(history.history['acc'])\n",
    "plt.plot(history.history['val_acc'])\n",
    "plt.title('Model Accuracy')\n",
    "plt.ylabel('Accuracy')\n",
    "plt.xlabel('Epoch')\n",
    "plt.legend(['train', 'test'], loc='upper left')\n",
    "plt.show()\n",
    "\n",
    "# 绘制训练集和验证集的损失值\n",
    "plt.plot(history.history['loss'])\n",
    "plt.plot(history.history['val_loss'])\n",
    "plt.title('Model Loss')\n",
    "plt.ylabel('Loss')\n",
    "plt.xlabel('Epoch')\n",
    "plt.legend(['train', 'test'], loc='upper left')\n",
    "plt.show()"
   ]
  },
  {
   "cell_type": "markdown",
   "metadata": {},
   "source": [
    "# 评估模型"
   ]
  },
  {
   "cell_type": "code",
   "execution_count": 19,
   "metadata": {
    "collapsed": false
   },
   "outputs": [
    {
     "name": "stdout",
     "output_type": "stream",
     "text": [
      "Test accuracy:0.99, Test loss: 0.06968223751812357.\n"
     ]
    }
   ],
   "source": [
    "score = model.evaluate(X_test, y_test, verbose=0)\n",
    "print(\"Test accuracy:{}, Test loss: {}.\".format(score[1], score[0]))"
   ]
  },
  {
   "cell_type": "markdown",
   "metadata": {},
   "source": [
    "# 随便选择一张测试模型"
   ]
  },
  {
   "cell_type": "code",
   "execution_count": 20,
   "metadata": {
    "collapsed": false
   },
   "outputs": [
    {
     "data": {
      "image/png": "[encoded data removed]",
      "text/plain": [
       "<Figure size 432x288 with 1 Axes>"
      ]
     },
     "metadata": {},
     "output_type": "display_data"
    }
   ],
   "source": [
    "import matplotlib.pyplot as plt\n",
    "import matplotlib.image as mpimg\n",
    "\n",
    "index_10_img = X_test[10].reshape(28, 28)\n",
    "imgplot = plt.imshow(index_10_img, cmap=\"gray\")\n",
    "plt.show()"
   ]
  },
  {
   "cell_type": "code",
   "execution_count": 21,
   "metadata": {
    "collapsed": false
   },
   "outputs": [
    {
     "name": "stdout",
     "output_type": "stream",
     "text": [
      "索引为10的图像是数字6。\n"
     ]
    }
   ],
   "source": [
    "target_label_arr = y_test[10]\n",
    "target_label = np.argmax(target_label_arr)\n",
    "print(\"索引为10的图像是数字{}。\".format(target_label))"
   ]
  },
  {
   "cell_type": "code",
   "execution_count": 22,
   "metadata": {
    "collapsed": false
   },
   "outputs": [
    {
     "name": "stdout",
     "output_type": "stream",
     "text": [
      "预测的结果是6。\n"
     ]
    }
   ],
   "source": [
    "index_10_img_to_predict = X_test[10].reshape((1, 784))\n",
    "predictions = model.predict(index_10_img_to_predict)\n",
    "print(\"预测的结果是{}。\".format(np.argmax(predictions[0])))"
   ]
  },
  {
   "cell_type": "code",
   "execution_count": 23,
   "metadata": {
    "collapsed": false
   },
   "outputs": [
    {
     "data": {
      "image/png": "[encoded data removed]",
      "text/plain": [
       "<Figure size 432x288 with 1 Axes>"
      ]
     },
     "metadata": {},
     "output_type": "display_data"
    }
   ],
   "source": [
    "import matplotlib.pyplot as plt\n",
    "import numpy as np\n",
    "\n",
    "x_coordinates = np.arange(predictions.shape[1])\n",
    "plt.bar(x_coordinates, predictions[0][:])\n",
    "plt.xticks(x_coordinates, np.arange(10))\n",
    "plt.grid()\n",
    "plt.show()"
   ]
  },
  {
   "cell_type": "markdown",
   "metadata": {},
   "source": [
    "# 保存模型"
   ]
  },
  {
   "cell_type": "code",
   "execution_count": 24,
   "metadata": {
    "collapsed": false
   },
   "outputs": [
    {
     "name": "stdout",
     "output_type": "stream",
     "text": [
      "已以保存模型\n"
     ]
    }
   ],
   "source": [
    "# 方式1\n",
    "# 序列化模型架构到JSON文件 \n",
    "model_json = model.to_json()\n",
    "with open(\"mnist_model.json\", \"w\") as json_file:\n",
    "    json_file.write(model_json)\n",
    "# 序列化模型权重到HDF5文件\n",
    "model.save_weights(\"mnist_model.h5\")\n",
    "print(\"已以保存模型\")"
   ]
  },
  {
   "cell_type": "code",
   "execution_count": 25,
   "metadata": {
    "collapsed": false
   },
   "outputs": [
    {
     "name": "stdout",
     "output_type": "stream",
     "text": [
      "已加载模型\n"
     ]
    }
   ],
   "source": [
    "from keras.models import model_from_json\n",
    "\n",
    "# 读取已保存的模型\n",
    "with open('mnist_model.json', 'r') as json_file:\n",
    "    loaded_model_json = json_file.read()\n",
    "my_loaded_model = model_from_json(loaded_model_json)\n",
    "# 加载模型权重\n",
    "my_loaded_model.load_weights(\"mnist_model.h5\")\n",
    "print(\"已加载模型\")"
   ]
  },
  {
   "cell_type": "code",
   "execution_count": 26,
   "metadata": {
    "collapsed": false
   },
   "outputs": [
    {
     "name": "stdout",
     "output_type": "stream",
     "text": [
      "加载后的模型预测的结果是6。\n"
     ]
    }
   ],
   "source": [
    "index_10_img_to_predict = X_test[10].reshape((1, 784))\n",
    "predictions = my_loaded_model.predict(index_10_img_to_predict)\n",
    "print(\"加载后的模型预测的结果是{}。\".format(np.argmax(predictions[0])))"
   ]
  },
  {
   "cell_type": "markdown",
   "metadata": {},
   "source": [
    "### 请关注公众号，免费获得更多的学习教程和资料\n",
    "![](https://ai-studio-static-online.cdn.bcebos.com/c1ef6aea9943477c83541807e56c5066b0a16810dda843839ebe0edc3968748f)\n",
    "\n",
    "### <a href=\"https://blog.csdn.net/u013538542\" target=\"_blank\">CSDN博客</a>\n",
    "### <a href=\"https://github.com/21-projects-for-deep-learning\" target=\"_blank\">Github主页</a>"
   ]
  }
 ],
 "metadata": {
  "kernelspec": {
   "display_name": "PaddlePaddle 1.3.2 (Python 3.5)",
   "language": "python",
   "name": "py35-paddle1.2.0"
  },
  "language_info": {
   "codemirror_mode": {
    "name": "ipython",
    "version": 3
   },
   "file_extension": ".py",
   "mimetype": "text/x-python",
   "name": "python",
   "nbconvert_exporter": "python",
   "pygments_lexer": "ipython3",
   "version": "3.5.5"
  }
 },
 "nbformat": 4,
 "nbformat_minor": 1
}
